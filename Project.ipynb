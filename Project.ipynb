{
 "cells": [
  {
   "cell_type": "markdown",
   "metadata": {},
   "source": [
    "# **Introduction + Data analysis and visualization**\n",
    "---"
   ]
  },
  {
   "cell_type": "markdown",
   "metadata": {},
   "source": []
  },
  {
   "cell_type": "markdown",
   "metadata": {},
   "source": [
    "# **Mandatory Component**\n",
    "---"
   ]
  },
  {
   "cell_type": "markdown",
   "metadata": {},
   "source": []
  },
  {
   "cell_type": "markdown",
   "metadata": {},
   "source": [
    "# **Exploratory Component**\n",
    "---"
   ]
  },
  {
   "cell_type": "markdown",
   "metadata": {},
   "source": []
  },
  {
   "cell_type": "markdown",
   "metadata": {},
   "source": [
    "# **Conclusions**\n",
    "---"
   ]
  },
  {
   "cell_type": "markdown",
   "metadata": {},
   "source": []
  },
  {
   "cell_type": "markdown",
   "metadata": {},
   "source": [
    "# **Word Count**\n",
    "---"
   ]
  },
  {
   "cell_type": "code",
   "execution_count": 3,
   "metadata": {},
   "outputs": [
    {
     "name": "stdout",
     "output_type": "stream",
     "text": [
      "{'cells': [{'cell_type': 'markdown', 'metadata': {}, 'source': ['# **Introduction + Data analysis and visualization**\\n', '---']}, {'cell_type': 'markdown', 'metadata': {}, 'source': ['# **Mandatory Component**\\n', '---']}, {'cell_type': 'markdown', 'metadata': {}, 'source': ['# **Exploratory Component**\\n', '---']}, {'cell_type': 'markdown', 'metadata': {}, 'source': ['# **Conclusions**\\n', '---']}], 'metadata': {'language_info': {'name': 'python'}}, 'nbformat': 4, 'nbformat_minor': 2}\n"
     ]
    }
   ],
   "source": [
    "import json\n",
    "\n",
    "with open('Project.ipynb') as json_file:\n",
    "    data = json.load(json_file)\n",
    "\n",
    "print(data)"
   ]
  },
  {
   "cell_type": "code",
   "execution_count": 4,
   "metadata": {},
   "outputs": [
    {
     "name": "stdout",
     "output_type": "stream",
     "text": [
      "15\n"
     ]
    }
   ],
   "source": [
    "wordCount = 0\n",
    "for each in data['cells']:\n",
    "    cellType = each['cell_type']\n",
    "    if cellType == \"markdown\":\n",
    "        content = each['source']\n",
    "        for line in content:\n",
    "            temp = [word for word in line.split() if \"#\" not in word] # we might need to filter for more markdown keywords here\n",
    "            wordCount = wordCount + len(temp)\n",
    "            \n",
    "print(wordCount)"
   ]
  }
 ],
 "metadata": {
  "kernelspec": {
   "display_name": "42577_Business_Analytics",
   "language": "python",
   "name": "python3"
  },
  "language_info": {
   "codemirror_mode": {
    "name": "ipython",
    "version": 3
   },
   "file_extension": ".py",
   "mimetype": "text/x-python",
   "name": "python",
   "nbconvert_exporter": "python",
   "pygments_lexer": "ipython3",
   "version": "3.11.9"
  }
 },
 "nbformat": 4,
 "nbformat_minor": 2
}
